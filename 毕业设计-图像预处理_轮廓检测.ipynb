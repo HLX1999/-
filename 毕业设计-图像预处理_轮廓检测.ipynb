{
 "cells": [
  {
   "cell_type": "code",
   "execution_count": null,
   "id": "34708057",
   "metadata": {},
   "outputs": [],
   "source": [
    "## 杀旧代码运行的残留结果\n",
    "# ===== 一键“clc + clear all + close all” =====\n",
    "import os\n",
    "import sys\n",
    "try:\n",
    "    from IPython import get_ipython\n",
    "    get_ipython().magic('clear')        # 类似 clc：清空终端/控制台\n",
    "    get_ipython().magic('reset -f')     # 类似 clear all：清掉用户变量\n",
    "except:\n",
    "    # 非 IPython 环境，退而求其次\n",
    "    os.system('cls' if os.name == 'nt' else 'clear')  # 清屏\n",
    "    # 清掉当前全局变量（保留内置 __builtins__ 等）\n",
    "    for name in dir():\n",
    "        if not name.startswith('_') and name not in {'sys', 'os'}:\n",
    "            del globals()[name]\n",
    "\n",
    "# 如果有 GUI 窗口，把 matplotlib 的图全关掉\n",
    "try:\n",
    "    import matplotlib.pyplot as plt\n",
    "    plt.close('all')\n",
    "except ImportError:\n",
    "    pass\n",
    "# ==========================================="
   ]
  },
  {
   "cell_type": "markdown",
   "id": "88aa1982",
   "metadata": {},
   "source": [
    "### 前置环境配置，库、包导入，自定义函数导入"
   ]
  },
  {
   "cell_type": "code",
   "execution_count": null,
   "id": "05e629ab",
   "metadata": {},
   "outputs": [],
   "source": [
    "import cv2\n",
    "import numpy as np\n",
    "import matplotlib.pyplot as plt\n",
    "import matplotlib\n",
    "\n",
    "# 设置中文字体\n",
    "matplotlib.rcParams['font.sans-serif'] = ['SimHei']\n",
    "matplotlib.rcParams['axes.unicode_minus'] = False\n"
   ]
  },
  {
   "cell_type": "markdown",
   "id": "ccf564f1",
   "metadata": {},
   "source": [
    "##### 大图适配屏幕（2560×1440） + 放大镜"
   ]
  },
  {
   "cell_type": "code",
   "execution_count": null,
   "id": "1620f9fb",
   "metadata": {},
   "outputs": [],
   "source": [
    "\n",
    "# ==========================================================\n",
    "# 通用：大图适配屏幕（2560×1440） + 放大镜\n",
    "# ==========================================================\n",
    "def show_with_zoom(title, img,\n",
    "                   screen_wh=(2560, 1440),\n",
    "                   roi_half=60,          # 放大镜取样半径\n",
    "                   zoom_step=0.2):       # 滚轮步长\n",
    "    \"\"\"\n",
    "    将 img 等比例缩放并在 screen_wh 窗口中居中显示，\n",
    "    同时支持鼠标悬浮局部放大，滚轮调节放大倍率。\n",
    "    按任意键退出。\n",
    "    \"\"\"\n",
    "    scr_w, scr_h = screen_wh\n",
    "    h0, w0 = img.shape[:2]\n",
    "\n",
    "    # 1. 等比例缩放\n",
    "    scale = min(scr_w / w0, scr_h / h0, 1.0)\n",
    "    new_w, new_h = int(w0 * scale), int(h0 * scale)\n",
    "    resized = cv2.resize(img, (new_w, new_h), interpolation=cv2.INTER_AREA)\n",
    "\n",
    "    # 2. 黑边\n",
    "    top = (scr_h - new_h) // 2\n",
    "    bottom = scr_h - new_h - top\n",
    "    left = (scr_w - new_w) // 2\n",
    "    right = scr_w - new_w - left\n",
    "    canvas = cv2.copyMakeBorder(resized, top, bottom, left, right,\n",
    "                                cv2.BORDER_CONSTANT, value=(0, 0, 0))\n",
    "    clone = canvas.copy()\n",
    "\n",
    "    # 3. 放大镜参数\n",
    "    zoom = 3.0\n",
    "\n",
    "    # 4. 鼠标回调\n",
    "    def mouse_cb(event, x, y, flags, param):\n",
    "        nonlocal zoom\n",
    "        if event == cv2.EVENT_MOUSEMOVE:\n",
    "            canvas[:] = clone[:]   # 复原\n",
    "            x1 = max(x - roi_half, 0)\n",
    "            y1 = max(y - roi_half, 0)\n",
    "            x2 = min(x + roi_half, canvas.shape[1])\n",
    "            y2 = min(y + roi_half, canvas.shape[0])\n",
    "            if x2 - x1 == 0 or y2 - y1 == 0:\n",
    "                return\n",
    "            roi = clone[y1:y2, x1:x2]\n",
    "            zoomed = cv2.resize(roi, (0, 0), fx=zoom, fy=zoom,\n",
    "                                interpolation=cv2.INTER_LINEAR)\n",
    "            zh, zw = zoomed.shape[:2]\n",
    "            canvas[0:zh, canvas.shape[1]-zw:canvas.shape[1]] = zoomed\n",
    "            cv2.imshow(title, canvas)\n",
    "\n",
    "        elif event == cv2.EVENT_MOUSEWHEEL:\n",
    "            zoom = max(1.0, zoom + zoom_step * (1 if flags > 0 else -1))\n",
    "\n",
    "    # 5. 窗口\n",
    "    cv2.namedWindow(title, cv2.WINDOW_NORMAL)\n",
    "    cv2.resizeWindow(title, scr_w, scr_h)\n",
    "    cv2.setMouseCallback(title, mouse_cb)\n",
    "    cv2.imshow(title, canvas)\n",
    "    cv2.waitKey(0)\n",
    "    cv2.destroyAllWindows()\n"
   ]
  },
  {
   "cell_type": "markdown",
   "id": "3b2bb337",
   "metadata": {},
   "source": [
    "##### ROI框选函数"
   ]
  },
  {
   "cell_type": "code",
   "execution_count": null,
   "id": "6c2961fc",
   "metadata": {},
   "outputs": [],
   "source": [
    "def pick_roi_scaled_center(title, src_img, screen_wh=(2560, 1440)):\n",
    "    scr_w, scr_h = screen_wh\n",
    "    h0, w0 = src_img.shape[:2]\n",
    "\n",
    "    # 1. 等比例缩放因子\n",
    "    scale = min(scr_w / w0, scr_h / h0, 1.0)\n",
    "    new_w, new_h = int(w0 * scale), int(h0 * scale)\n",
    "\n",
    "    # 2. 缩放图\n",
    "    small = cv2.resize(src_img, (new_w, new_h), interpolation=cv2.INTER_AREA)\n",
    "\n",
    "    # 3. 加黑边，使最终尺寸 = 屏幕分辨率\n",
    "    top = (scr_h - new_h) // 2\n",
    "    bottom = scr_h - new_h - top\n",
    "    left = (scr_w - new_w) // 2\n",
    "    right = scr_w - new_w - left\n",
    "    canvas = cv2.copyMakeBorder(small, top, bottom, left, right,\n",
    "                                cv2.BORDER_CONSTANT, value=(0, 0, 0))\n",
    "\n",
    "    # 4. 创建窗口并强制 2560×1440\n",
    "    cv2.namedWindow(title, cv2.WINDOW_NORMAL)\n",
    "    cv2.resizeWindow(title, scr_w, scr_h)\n",
    "\n",
    "    # 5. 状态变量\n",
    "    roi = None\n",
    "    drawing = False\n",
    "    ix, iy = -1, -1\n",
    "\n",
    "    def on_mouse(event, x, y, flags, param):\n",
    "        nonlocal roi, ix, iy, drawing\n",
    "        if event == cv2.EVENT_LBUTTONDOWN:\n",
    "            drawing = True\n",
    "            ix, iy = x, y\n",
    "        elif event == cv2.EVENT_MOUSEMOVE and drawing:\n",
    "            tmp = canvas.copy()\n",
    "            cv2.rectangle(tmp, (ix, iy), (x, y), (0, 255, 0), 2)\n",
    "            cv2.imshow(title, tmp)\n",
    "        elif event == cv2.EVENT_LBUTTONUP:\n",
    "            drawing = False\n",
    "            x1, y1 = min(ix, x), min(iy, y)\n",
    "            x2, y2 = max(ix, x), max(iy, y)\n",
    "            roi = (x1, y1, x2 - x1, y2 - y1)   # (x, y, w, h) on canvas\n",
    "\n",
    "    cv2.imshow(title, canvas)\n",
    "    cv2.setMouseCallback(title, on_mouse)\n",
    "\n",
    "    # 6. 等待用户框选\n",
    "    while True:\n",
    "        k = cv2.waitKey(1) & 0xFF\n",
    "        if roi is not None or k == 27:   # ROI 完成或按 ESC 退出\n",
    "            break\n",
    "    cv2.destroyWindow(title)\n",
    "\n",
    "    # 7. 如果用户没框选，默认全图\n",
    "    if roi is None:\n",
    "        roi = (left, top, new_w, new_h)\n",
    "\n",
    "    # 8. ROI 坐标映射回原图\n",
    "    rx, ry, rw, rh = roi\n",
    "    rx -= left\n",
    "    ry -= top\n",
    "    rx = int(rx / scale)\n",
    "    ry = int(ry / scale)\n",
    "    rw = int(rw / scale)\n",
    "    rh = int(rh / scale)\n",
    "\n",
    "    # 越界保护\n",
    "    rw = min(rw, w0 - rx)\n",
    "    rh = min(rh, h0 - ry)\n",
    "    return rx, ry, rw, rh"
   ]
  },
  {
   "cell_type": "markdown",
   "id": "e5868613",
   "metadata": {},
   "source": [
    "##### 从单应矩阵  H  快速算旋转角（平面内）"
   ]
  },
  {
   "cell_type": "code",
   "execution_count": null,
   "id": "720e2bf5",
   "metadata": {},
   "outputs": [],
   "source": [
    "## 从单应矩阵  H  快速算旋转角（平面内）\n",
    "def compute_rotation_angle(H):\n",
    "    \"\"\"\n",
    "    假设模板与场景都是平面，且相机垂直拍摄，\n",
    "    只关心绕 Z 轴的旋转角（平面内旋转）。\n",
    "    \"\"\"\n",
    "    # H 左上 2×2 子矩阵做极分解，得到旋转部分\n",
    "    a, b = H[0, 0], H[0, 1]\n",
    "    c, d = H[1, 0], H[1, 1]\n",
    "    theta = np.arctan2(c, a)            # 弧度\n",
    "    return np.degrees(theta)            # 转角度"
   ]
  },
  {
   "cell_type": "markdown",
   "id": "17e16c64",
   "metadata": {},
   "source": [
    "#### 导入图片"
   ]
  },
  {
   "cell_type": "code",
   "execution_count": null,
   "id": "e19c778f",
   "metadata": {},
   "outputs": [],
   "source": [
    "img1 = cv2.imread('20250811162741.jpg')\n",
    "# img1 = cv2.imread('box.png')\n",
    "img2 = cv2.imread('20250811162828.jpg')\n"
   ]
  },
  {
   "cell_type": "markdown",
   "id": "0d45561c",
   "metadata": {},
   "source": [
    "##### 对原始图像进行ROI框选"
   ]
  },
  {
   "cell_type": "code",
   "execution_count": null,
   "id": "7af8d6a2",
   "metadata": {},
   "outputs": [],
   "source": [
    "# ==========================================================\n",
    "# 1. 模板图 img1\n",
    "# ==========================================================\n",
    "x1, y1, w1, h1 = pick_roi_scaled_center(\"Select ROI on template (img1)\", img1)\n",
    "img1 = img1[y1:y1+h1, x1:x1+w1]\n",
    "\n",
    "# # ==========================================================\n",
    "# # 2. 场景图 img2\n",
    "# # ==========================================================\n",
    "# x2, y2, w2, h2 = pick_roi_scaled_center(\"Select ROI on scene (img2)\", img2)\n",
    "# img2 = img2[y2:y2+h2, x2:x2+w2]\n",
    "\n",
    "# 下面继续做灰度化、SIFT、匹配即可"
   ]
  },
  {
   "cell_type": "markdown",
   "id": "bfc736b7",
   "metadata": {},
   "source": [
    "##### 图像预处理"
   ]
  },
  {
   "cell_type": "code",
   "execution_count": null,
   "id": "d14a19a0",
   "metadata": {},
   "outputs": [],
   "source": [
    "# 灰度化\n",
    "g1 = cv2.cvtColor(img1, cv2.COLOR_BGR2GRAY)\n",
    "g2 = cv2.cvtColor(img2, cv2.COLOR_BGR2GRAY)"
   ]
  },
  {
   "cell_type": "markdown",
   "id": "e84ac078",
   "metadata": {},
   "source": [
    "#### SIFT提取特征点（描述子）"
   ]
  },
  {
   "cell_type": "code",
   "execution_count": null,
   "id": "f232524b",
   "metadata": {},
   "outputs": [],
   "source": [
    "# 创建 SIFT 并设置阈值\n",
    "sift = cv2.xfeatures2d.SIFT_create(\n",
    "    nfeatures=1200,          # 先放宽上限\n",
    "    contrastThreshold=0.08,  # 默认 0.04，越大越严格\n",
    "    edgeThreshold=30         # 默认 10，越大越抑制边缘点\n",
    ")\n",
    "\n",
    "# 检测关键点并计算描述子\n",
    "kp1, des1 = sift.detectAndCompute(g1, None)\n",
    "kp2, des2 = sift.detectAndCompute(g2, None)\n",
    "\n",
    "# 按响应值排序并再次裁剪\n",
    "max_kp = 400  # 最终保留数量，按需改\n",
    "kp1 = sorted(kp1, key=lambda k: k.response, reverse=True)[:max_kp]\n",
    "kp2 = sorted(kp2, key=lambda k: k.response, reverse=True)[:max_kp]\n",
    "\n",
    "# 重新计算描述子（只保留筛选后的关键点）\n",
    "kp1, des1 = sift.compute(g1, kp1)\n",
    "kp2, des2 = sift.compute(g2, kp2)\n",
    "\n",
    "print('img1 保留关键点:', len(kp1))\n",
    "print('img2 保留关键点:', len(kp2))\n",
    "\n",
    "\n",
    "# ---------- 1. 绘制关键点 ----------\n",
    "cv2.drawKeypoints(g1, kp1, img1)\n",
    "\n",
    "# ---------- 7. 显示 ----------\n",
    "show_with_zoom('Keypoints', img1)  "
   ]
  },
  {
   "cell_type": "markdown",
   "id": "105fa4fc",
   "metadata": {},
   "source": [
    "#### 基于K临近的BF暴力匹配"
   ]
  },
  {
   "cell_type": "code",
   "execution_count": null,
   "id": "63aa8179",
   "metadata": {},
   "outputs": [],
   "source": [
    "bf = cv2.BFMatcher(cv2.NORM_L1)\n",
    "\n",
    "# match = bf.match(des1, des2)##简单最佳匹配，不是很推荐\n",
    "# # 1. 绘制匹配结果\n",
    "# img3_raw = cv2.drawMatches(img1, kp1, img2, kp2, match, None)\n",
    "\n",
    "bf = cv2.BFMatcher(cv2.NORM_L1)\n",
    "# K近邻匹配\n",
    "matches = bf.knnMatch(des1, des2, k=2)\n",
    "\n",
    "# Lowe's ratio test\n",
    "RATIO = 0.6  #Lowe 阈值，越低越严苛。Ratio的值见前面的代码。\n",
    "good_matches = []\n",
    "for m, n in matches:\n",
    "    if m.distance < RATIO * n.distance:\n",
    "        good_matches.append(m)          \n",
    "\n",
    "#重新包装成二维 list，满足 drawMatchesKnn 要求\n",
    "good_matches_2d = [[m] for m in good_matches]\n",
    "\n",
    "# 1. 绘制匹配结果\n",
    "img3_raw = cv2.drawMatchesKnn(img1, kp1, img2, kp2, good_matches_2d, None,\n",
    "                              flags=cv2.DrawMatchesFlags_NOT_DRAW_SINGLE_POINTS)\n",
    "''' \n",
    "cv2.drawMatchesKnn  要求第二个参数必须是 “二维 list”\n",
    "（即  [[m1], [m2], …] ），而  good_matches  直接放成一维 list  [m1, m2, …], 会报错SystemError\n",
    "'''\n",
    "show_with_zoom('BF Matches', img3_raw)"
   ]
  },
  {
   "cell_type": "markdown",
   "id": "32ebf228",
   "metadata": {},
   "source": [
    "#### 图像配准"
   ]
  },
  {
   "cell_type": "code",
   "execution_count": null,
   "id": "76accecc",
   "metadata": {},
   "outputs": [],
   "source": [
    "RATIO   = RATIO        # Lowe 阈值，越低越严苛。Ratio的值见前面的代码。\n",
    "RANSAC_THRESH = 3.0    # 像素误差，越低越严苛\n",
    "MIN_INLIERS   = 15     # 至少这么多内点才算成功\n",
    "MIN_MATCH     = max(MIN_INLIERS, 4)#防止用户把  MIN_INLIERS  设得太小导致  findHomography  崩溃。\n",
    "''' \n",
    "max 函数取两者中的较大值。\n",
    "因为  findHomography  最少需要 4 对点才能算出单应矩阵，所以即使你把  MIN_INLIERS  设得比 4 小，\n",
    "也至少保证有 4 个匹配再进入后续步骤。\n",
    "如果你把  MIN_INLIERS  设成 15、20 之类大于 4 的数， MIN_MATCH  就自动等于  MIN_INLIERS ，代码仍成立。\n",
    "'''\n",
    "\n",
    "# good_matches = []\n",
    "# for m, n in matches:\n",
    "#     if m.distance < RATIO * n.distance:\n",
    "#         good_matches.append(m)          # 直接存 DMatch，省得再 1d\n",
    "\n",
    "if len(good_matches) >= MIN_MATCH:\n",
    "    src_pts = np.float32([kp1[m.queryIdx].pt for m in good_matches]).reshape(-1, 1, 2)\n",
    "    dst_pts = np.float32([kp2[m.trainIdx].pt for m in good_matches]).reshape(-1, 1, 2)\n",
    "\n",
    "    H, mask = cv2.findHomography(src_pts, dst_pts,\n",
    "                                 cv2.RANSAC,\n",
    "                                 RANSAC_THRESH)\n",
    "\n",
    "    inliers = mask.ravel().sum()\n",
    "    if inliers >= MIN_INLIERS:\n",
    "        symbol_of_OKNG_for_Class2 = 1#匹配成功的自变量=1，用于后面的代码自行判断是否执行\n",
    "        print(f'匹配成功！内点 = {inliers}')\n",
    "        #在  findHomography  之后 再生成“真正用于打分的那一份内点列表”。\n",
    "        good_inliers = [good_matches[i] for i, msk in enumerate(mask) if msk]\n",
    "        ''' \n",
    "        \n",
    "        '''\n",
    "        # 画框、显示……\n",
    "            # 5. 模板四角 → 场景坐标\n",
    "        hT, wT = img1.shape[:2]\n",
    "        pts = np.float32([[0, 0], [wT, 0], [wT, hT], [0, hT]]).reshape(-1, 1, 2)\n",
    "        dst = cv2.perspectiveTransform(pts, H)\n",
    "\n",
    "    # 6. 在场景图上画绿色四边形\n",
    "        S_vis = img2.copy()\n",
    "        cv2.polylines(S_vis, [np.int32(dst)], True, (0, 255, 0), 3, cv2.LINE_AA)\n",
    "\n",
    "    # 7. 把模板贴到场景里看看效果\n",
    "        warped = cv2.warpPerspective(img1, H, (img2.shape[1], img2.shape[0]))\n",
    "        blend = cv2.addWeighted(S_vis, 0.6, warped, 0.4, 0)\n",
    "        show_with_zoom('Result', blend)   # 把任何 ndarray 传进来即可\n",
    "    else:\n",
    "        symbol_of_OKNG_for_Class2 = 0#匹配成功的自变量=1，用于后面的代码自行判断是否执行\n",
    "        print('内点太少，匹配失败')\n",
    "else:\n",
    "    symbol_of_OKNG_for_Class2 = 0#匹配成功的自变量=1，用于后面的代码自行判断是否执行\n",
    "    print('匹配点太少，配准失败！')"
   ]
  },
  {
   "cell_type": "code",
   "execution_count": null,
   "id": "93c11750",
   "metadata": {},
   "outputs": [],
   "source": [
    "print(f'原始 good 匹配数: {len(good_matches)}')\n",
    "print(f'RANSAC 内点数   : {inliers}')\n",
    "print(f'内点平均距离    : {np.mean([good_matches[i].distance for i, msk in enumerate(mask) if msk]):.2f}')\n"
   ]
  },
  {
   "cell_type": "markdown",
   "id": "700b45a1",
   "metadata": {},
   "source": [
    "#### 判断是否找到模板对应的物体"
   ]
  },
  {
   "cell_type": "code",
   "execution_count": null,
   "id": "f8ba0147",
   "metadata": {},
   "outputs": [],
   "source": [
    "# ---------- 只判断是否找到物体 ----------\n",
    "INLIER_RATIO = 0.75      # ≥75 % 的 good 匹配是内点就认为找到了\n",
    "\n",
    "ratio = inliers / len(good_matches)\n",
    "found = ratio >= INLIER_RATIO\n",
    "\n",
    "if found:\n",
    "    print('✅ 物体已找到','匹配分数：',ratio)\n",
    "    # 下面直接算旋转角\n",
    "    # angle = compute_rotation_angle(H)   # \n",
    "    # print(f'旋转角 ≈ {angle:.1f}°')#误差 ±2° 以内，足够做后续逻辑。\n",
    "    # 把分数写在结果图上\n",
    "    ratio_score=round(ratio*100)\n",
    "    score_text = f'Score: {ratio_score}'\n",
    "    cv2.putText(blend, score_text,\n",
    "            (20, 60),                     # 左上角位置\n",
    "            cv2.FONT_HERSHEY_SIMPLEX,\n",
    "            1.8, (0, 255, 255), 3, cv2.LINE_AA)\n",
    "    show_with_zoom('Result', blend)\n",
    "else:\n",
    "    print('❌ 未找到物体')"
   ]
  },
  {
   "cell_type": "markdown",
   "id": "1640ed4e",
   "metadata": {},
   "source": [
    "##### 如果找到对应的物体，判断旋转角度"
   ]
  },
  {
   "cell_type": "code",
   "execution_count": null,
   "id": "d49b3641",
   "metadata": {},
   "outputs": [],
   "source": [
    "## 从单应矩阵  H  快速算旋转角（平面内）\n",
    "def compute_rotation_angle(H):\n",
    "    \"\"\"\n",
    "    假设模板与场景都是平面，且相机垂直拍摄，\n",
    "    只关心绕 Z 轴的旋转角（平面内旋转）。\n",
    "    \"\"\"\n",
    "    # H 左上 2×2 子矩阵做极分解，得到旋转部分\n",
    "    a, b = H[0, 0], H[0, 1]\n",
    "    c, d = H[1, 0], H[1, 1]\n",
    "    theta = np.arctan2(c, a)            # 弧度\n",
    "    return np.degrees(theta)            # 转角度\n",
    "\n",
    "angle = compute_rotation_angle(H)   # \n",
    "print(f'旋转角 ≈ {angle:.1f}°')#误差 ±2° 以内，足够做后续逻辑。"
   ]
  }
 ],
 "metadata": {
  "kernelspec": {
   "display_name": "Python3613",
   "language": "python",
   "name": "python3"
  },
  "language_info": {
   "name": "python",
   "version": "3.6.13"
  }
 },
 "nbformat": 4,
 "nbformat_minor": 5
}
